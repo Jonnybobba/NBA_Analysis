{
  "nbformat": 4,
  "nbformat_minor": 0,
  "metadata": {
    "colab": {
      "name": "NBAData.ipynb",
      "provenance": [],
      "authorship_tag": "ABX9TyNS4Kui2zCKzgE3kxOkDqLJ",
      "include_colab_link": true
    },
    "kernelspec": {
      "name": "python3",
      "display_name": "Python 3"
    }
  },
  "cells": [
    {
      "cell_type": "markdown",
      "metadata": {
        "id": "view-in-github",
        "colab_type": "text"
      },
      "source": [
        "<a href=\"https://colab.research.google.com/github/Jonnybobba/NBA_Analysis/blob/main/NBAData.ipynb\" target=\"_parent\"><img src=\"https://colab.research.google.com/assets/colab-badge.svg\" alt=\"Open In Colab\"/></a>"
      ]
    },
    {
      "cell_type": "code",
      "metadata": {
        "colab": {
          "base_uri": "https://localhost:8080/"
        },
        "id": "I8qMS7TC3PHr",
        "outputId": "596b8045-5f82-4815-b7fa-5204bcd61d6d"
      },
      "source": [
        "import os\r\n",
        "# Find the latest version of spark 3.0  from http://www-us.apache.org/dist/spark/ and enter as the spark version\r\n",
        "# For example:\r\n",
        "spark_version = 'spark-2.4.7'\r\n",
        "os.environ['SPARK_VERSION']=spark_version\r\n",
        "\r\n",
        "# Install Spark and Java\r\n",
        "!apt-get update\r\n",
        "!apt-get install openjdk-11-jdk-headless -qq > /dev/null\r\n",
        "!wget -q http://www-us.apache.org/dist/spark/$SPARK_VERSION/$SPARK_VERSION-bin-hadoop2.7.tgz\r\n",
        "!tar xf $SPARK_VERSION-bin-hadoop2.7.tgz\r\n",
        "!pip install -q findspark\r\n",
        "\r\n",
        "# Set Environment Variables\r\n",
        "os.environ[\"JAVA_HOME\"] = \"/usr/lib/jvm/java-11-openjdk-amd64\"\r\n",
        "os.environ[\"SPARK_HOME\"] = f\"/content/{spark_version}-bin-hadoop2.7\"\r\n",
        "\r\n",
        "# Start a SparkSession\r\n",
        "import findspark\r\n",
        "findspark.init()"
      ],
      "execution_count": 2,
      "outputs": [
        {
          "output_type": "stream",
          "text": [
            "\r0% [Working]\r            \rHit:1 http://security.ubuntu.com/ubuntu bionic-security InRelease\n",
            "\r0% [Connecting to archive.ubuntu.com (91.189.88.152)] [Connected to cloud.r-pro\r0% [1 InRelease gpgv 88.7 kB] [Connecting to archive.ubuntu.com (91.189.88.152)\r                                                                               \rIgn:2 https://developer.download.nvidia.com/compute/cuda/repos/ubuntu1804/x86_64  InRelease\n",
            "\r0% [1 InRelease gpgv 88.7 kB] [Connecting to archive.ubuntu.com (91.189.88.152)\r                                                                               \rHit:3 https://cloud.r-project.org/bin/linux/ubuntu bionic-cran40/ InRelease\n",
            "\r0% [1 InRelease gpgv 88.7 kB] [Connecting to archive.ubuntu.com (91.189.88.152)\r                                                                               \rIgn:4 https://developer.download.nvidia.com/compute/machine-learning/repos/ubuntu1804/x86_64  InRelease\n",
            "\r0% [1 InRelease gpgv 88.7 kB] [Connecting to archive.ubuntu.com (91.189.88.152)\r                                                                               \rHit:5 http://ppa.launchpad.net/c2d4u.team/c2d4u4.0+/ubuntu bionic InRelease\n",
            "\r0% [1 InRelease gpgv 88.7 kB] [Connecting to archive.ubuntu.com (91.189.88.152)\r                                                                               \rHit:6 https://developer.download.nvidia.com/compute/cuda/repos/ubuntu1804/x86_64  Release\n",
            "Hit:7 https://developer.download.nvidia.com/compute/machine-learning/repos/ubuntu1804/x86_64  Release\n",
            "Hit:8 http://ppa.launchpad.net/cran/libgit2/ubuntu bionic InRelease\n",
            "Hit:9 http://archive.ubuntu.com/ubuntu bionic InRelease\n",
            "Get:10 http://archive.ubuntu.com/ubuntu bionic-updates InRelease [88.7 kB]\n",
            "Hit:11 http://ppa.launchpad.net/graphics-drivers/ppa/ubuntu bionic InRelease\n",
            "Get:12 http://archive.ubuntu.com/ubuntu bionic-backports InRelease [74.6 kB]\n",
            "Get:15 http://archive.ubuntu.com/ubuntu bionic-updates/main amd64 Packages [2,360 kB]\n",
            "Fetched 2,524 kB in 3s (1,008 kB/s)\n",
            "Reading package lists... Done\n"
          ],
          "name": "stdout"
        }
      ]
    },
    {
      "cell_type": "code",
      "metadata": {
        "colab": {
          "base_uri": "https://localhost:8080/"
        },
        "id": "V4IiC7Fr3TeI",
        "outputId": "9dc0ef9d-bcf6-41b6-ff28-d7e131c91f5e"
      },
      "source": [
        "!wget https://jdbc.postgresql.org/download/postgresql-42.2.9.jar"
      ],
      "execution_count": 3,
      "outputs": [
        {
          "output_type": "stream",
          "text": [
            "--2021-02-20 19:29:17--  https://jdbc.postgresql.org/download/postgresql-42.2.9.jar\n",
            "Resolving jdbc.postgresql.org (jdbc.postgresql.org)... 72.32.157.228, 2001:4800:3e1:1::228\n",
            "Connecting to jdbc.postgresql.org (jdbc.postgresql.org)|72.32.157.228|:443... connected.\n",
            "HTTP request sent, awaiting response... 200 OK\n",
            "Length: 914037 (893K) [application/java-archive]\n",
            "Saving to: ‘postgresql-42.2.9.jar.1’\n",
            "\n",
            "postgresql-42.2.9.j 100%[===================>] 892.61K  --.-KB/s    in 0.1s    \n",
            "\n",
            "2021-02-20 19:29:17 (6.02 MB/s) - ‘postgresql-42.2.9.jar.1’ saved [914037/914037]\n",
            "\n"
          ],
          "name": "stdout"
        }
      ]
    },
    {
      "cell_type": "code",
      "metadata": {
        "id": "STaccD7a3aiO"
      },
      "source": [
        "from pyspark.sql import SparkSession\r\n",
        "spark = SparkSession.builder.appName(\"CloudETL\").config(\"spark.driver.extraClassPath\",\"/content/postgresql-42.2.9.jar\").getOrCreate()"
      ],
      "execution_count": 4,
      "outputs": []
    },
    {
      "cell_type": "code",
      "metadata": {
        "colab": {
          "base_uri": "https://localhost:8080/"
        },
        "id": "BhD_-5wb3dku",
        "outputId": "5f57f99f-8270-43e7-e9e8-97d01921c41a"
      },
      "source": [
        "from pyspark import SparkFiles\r\n",
        "# Load in employee.csv from S3 into a DataFrame\r\n",
        "url = \"https://nbadatabasebucket.s3.amazonaws.com/Team_00-20.csv\"\r\n",
        "spark.sparkContext.addFile(url)\r\n",
        "\r\n",
        "df = spark.read.option('header', 'true').csv(SparkFiles.get(\"Team_00-20.csv\"), inferSchema=True, sep=',', timestampFormat=\"mm/dd/yy\")\r\n",
        "df.show(10)"
      ],
      "execution_count": 5,
      "outputs": [
        {
          "output_type": "stream",
          "text": [
            "+----+--------------------+---+-----+----+----+-----+---+----+-----+----+----+-----+----+----+-----+----+----+----+----+----+---+----+----+-----+--------+------------+\n",
            "|Year|                Team|  G|   MP|  FG| FGA|  FG%| 3P| 3PA|  3P%|  2P| 2PA|  2P%|  FT| FTA|  FT%| ORB| DRB| TRB| AST| STL|BLK| TOV|  PF|  PTS|Playoffs|Championship|\n",
            "+----+--------------------+---+-----+----+----+-----+---+----+-----+----+----+-----+----+----+-----+----+----+----+----+----+---+----+----+-----+--------+------------+\n",
            "|2000|    Sacramento Kings| 82|20080|39.7|88.2|0.449|6.1|17.1|0.354|33.6|71.1|0.472|20.3|26.3|0.771|12.5|34.2|46.7|23.4|10.0|5.5|15.5|20.2|105.6|    true|       false|\n",
            "|2000|     Milwaukee Bucks| 82|19780|41.0|89.5|0.458|7.4|19.5|0.379|33.6|70.0| 0.48|19.4|24.7|0.787|12.8|32.9|45.8|24.3| 8.8|5.1|14.8|25.4|108.8|    true|       false|\n",
            "|2000|  Los Angeles Lakers| 82|19905|40.9|87.9|0.465|5.8|16.8|0.344|35.1|71.1|0.494|20.9|30.7|0.683|14.3|33.9|48.2|24.8| 7.4|6.4|15.6|24.6|108.4|    true|        true|\n",
            "|2000|    Dallas Mavericks| 82|19805|40.1|87.3|0.459|6.7|17.6|0.381|33.4|69.7|0.479|20.2|25.4|0.794|10.8|33.4|44.2|22.6| 8.0|6.4|14.8|24.8|107.1|    true|       false|\n",
            "|2000|     Toronto Raptors| 82|19955|40.3|92.2|0.437|5.7|15.4|0.369|34.6|76.8|0.451|19.6|26.2|0.747|14.8|33.4|48.2|26.5| 7.9|6.9|14.3|23.1|105.9|    true|       false|\n",
            "|2000|       Orlando Magic| 82|19955|38.9|88.7|0.438|6.3|17.4|0.364|32.6|71.4|0.456|19.1|26.7|0.714|13.8|31.6|45.4|23.3| 8.7|6.2|16.1|26.7|103.2|    true|       false|\n",
            "|2000|Minnesota Timberw...| 82|19830|41.5|90.5|0.458|4.2|11.9|0.357|37.2|78.7|0.473|18.0|22.9|0.785|13.2|32.6|45.8|27.5| 9.0|6.0|15.0|25.0|105.2|    true|       false|\n",
            "|2000| Seattle SuperSonics| 82|19805|40.1|88.0|0.456|6.2|15.5|0.399|33.9|72.5|0.468|19.2|26.3|0.732|13.2|32.1|45.3|23.7| 8.7|5.4|16.6|22.9|105.6|   false|       false|\n",
            "|2000|     Houston Rockets| 82|19830|39.4|86.9|0.453|6.7|18.9|0.357|32.7|68.0| 0.48|21.2|27.9|0.758|12.3|33.8|46.1|21.6| 7.9|4.8|16.1|22.2|106.7|   false|       false|\n",
            "|2000|           Utah Jazz| 82|19780|40.0|85.0|0.471|4.4|11.5|0.381|35.6|73.5|0.485|23.2|30.8|0.752|12.7|32.2|45.0|28.5| 8.9|6.3|17.5|28.5|107.6|    true|       false|\n",
            "+----+--------------------+---+-----+----+----+-----+---+----+-----+----+----+-----+----+----+-----+----+----+----+----+----+---+----+----+-----+--------+------------+\n",
            "only showing top 10 rows\n",
            "\n"
          ],
          "name": "stdout"
        }
      ]
    },
    {
      "cell_type": "code",
      "metadata": {
        "colab": {
          "base_uri": "https://localhost:8080/"
        },
        "id": "VXF8SCKz3gkw",
        "outputId": "d1a3ee78-5e5f-4600-a225-34280801a098"
      },
      "source": [
        "from pyspark import SparkFiles\r\n",
        "# Load in employee.csv from S3 into a DataFrame\r\n",
        "url = \"https://nbadatabasebucket.s3.amazonaws.com/Opp_00-20.csv\"\r\n",
        "spark.sparkContext.addFile(url)\r\n",
        "\r\n",
        "df2 = spark.read.option('header', 'true').csv(SparkFiles.get(\"Opp_00-20.csv\"), inferSchema=True, sep=',', timestampFormat=\"mm/dd/yy\")\r\n",
        "df2.show(10)"
      ],
      "execution_count": 6,
      "outputs": [
        {
          "output_type": "stream",
          "text": [
            "+----+--------------------+---+-----+----+----+-----+---+----+-----+----+----+-----+----+----+-----+----+----+----+----+---+---+----+----+-----+---------+------------+\n",
            "|Year|                Team|  G|   MP|  FG| FGA|  FG%| 3P| 3PA|  3P%|  2P| 2PA|  2P%|  FT| FTA|  FT%| ORB| DRB| TRB| AST|STL|BLK| TOV|  PF|  PTS|Playoffs2|Championship|\n",
            "+----+--------------------+---+-----+----+----+-----+---+----+-----+----+----+-----+----+----+-----+----+----+----+----+---+---+----+----+-----+---------+------------+\n",
            "|2000|     New York Knicks| 82|19905|35.7|85.7|0.417|6.2|17.6|0.352|29.5|68.1|0.434|20.6|28.0|0.733|12.1|33.6|45.8|21.9|8.3|4.7|16.9|24.4| 98.2|     true|       false|\n",
            "|2000|          Miami Heat| 82|19880|37.4|86.8|0.431|5.0|15.1|0.331|32.5|71.7|0.452|18.6|25.2|0.737|12.7|35.0|47.7|19.7|8.3|5.9|17.7|25.3| 98.5|     true|       false|\n",
            "|2000|   San Antonio Spurs| 82|19830|38.3|91.5|0.419|4.6|14.1|0.329|33.7|77.4|0.435|16.7|22.5|0.741|13.1|32.9|45.9|21.8|8.1|5.8|15.0|26.3| 98.0|     true|       false|\n",
            "|2000|   Charlotte Hornets| 82|19880|37.4|87.8|0.426|5.3|14.6| 0.36|32.1|73.2|0.439|19.5|25.8|0.756|12.0|32.9|44.9|23.6|8.3|5.1|16.3|23.9| 99.5|     true|       false|\n",
            "|2000|  Philadelphia 76ers| 82|19855|38.3|89.4|0.429|5.7|16.7|0.342|32.6|72.7|0.448|16.6|22.1|0.749|13.1|31.6|44.7|23.6|9.0|6.1|16.8|25.9| 98.9|     true|       false|\n",
            "|2000|Portland Trail Bl...| 82|19780|38.4|87.6|0.438|5.5|15.0|0.368|32.8|72.6|0.452|19.5|26.3|0.744|12.9|30.5|43.3|23.8|8.8|4.4|16.6|23.7|101.8|     true|       false|\n",
            "|2000|        Phoenix Suns| 82|19805|36.3|83.6|0.435|4.3|12.2|0.349|32.1|71.4|0.449|21.1|27.7|0.761|11.7|33.7|45.4|21.5|8.9|5.4|18.6|23.7| 98.0|     true|       false|\n",
            "|2000|           Utah Jazz| 82|19780|36.1|82.1|0.439|5.5|16.1|0.343|30.5|66.0|0.462|24.7|32.3|0.765|11.8|29.5|41.3|21.1|9.4|6.1|17.8|27.1|102.4|     true|       false|\n",
            "|2000|      Indiana Pacers| 82|19980|38.0|89.8|0.423|5.1|15.1|0.336|32.9|74.7|0.441|21.1|27.9|0.758|14.0|33.5|47.5|22.8|7.9|5.2|15.0|25.3|102.2|     true|       false|\n",
            "|2000|     Houston Rockets| 82|19830|40.4|90.1|0.449|4.8|13.6|0.354|35.6|76.6|0.465|18.5|24.9|0.744|13.2|32.4|45.6|23.2|8.1|5.4|14.6|23.7|104.2|    false|       false|\n",
            "+----+--------------------+---+-----+----+----+-----+---+----+-----+----+----+-----+----+----+-----+----+----+----+----+---+---+----+----+-----+---------+------------+\n",
            "only showing top 10 rows\n",
            "\n"
          ],
          "name": "stdout"
        }
      ]
    },
    {
      "cell_type": "code",
      "metadata": {
        "id": "f533t6l53myn"
      },
      "source": [
        "import pandas as pd"
      ],
      "execution_count": 7,
      "outputs": []
    },
    {
      "cell_type": "code",
      "metadata": {
        "id": "BMqXi4xq3x2W"
      },
      "source": [
        "Team_DF = df.toPandas()\r\n",
        "print(Team_DF)"
      ],
      "execution_count": null,
      "outputs": []
    },
    {
      "cell_type": "code",
      "metadata": {
        "id": "GUB5FYhl36WA"
      },
      "source": [
        ""
      ],
      "execution_count": null,
      "outputs": []
    }
  ]
}